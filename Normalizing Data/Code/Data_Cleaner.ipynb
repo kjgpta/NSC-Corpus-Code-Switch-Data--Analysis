{
  "cells": [
    {
      "cell_type": "markdown",
      "metadata": {
        "id": "HRMbYDOXDGow"
      },
      "source": [
        "# Cleans the data and saves it into different categories"
      ]
    },
    {
      "cell_type": "code",
      "execution_count": null,
      "metadata": {
        "id": "xQKcg3qqoTxu"
      },
      "outputs": [],
      "source": [
        "# \"complete.txt\" => Path of the complete text file consisting of real code-switched data\n",
        "with open(\"complete.txt\") as f:\n",
        "    text = f.readlines()"
      ]
    },
    {
      "cell_type": "code",
      "execution_count": null,
      "metadata": {
        "id": "4lpb-k-Dv2hm"
      },
      "outputs": [],
      "source": [
        "def detector(line):\n",
        "    if line.startswith(\"<malay>\") and line.endswith(\"</malay>\"):\n",
        "        if line.count(\"<malay>\") == 1:\n",
        "            return \"MS\"\n",
        "        else:\n",
        "            return \"CS\"\n",
        "    else:\n",
        "        if line.count(\"<malay>\") >= 1:\n",
        "            return \"CS\"\n",
        "        else:\n",
        "            return \"EN\""
      ]
    },
    {
      "cell_type": "code",
      "execution_count": null,
      "metadata": {
        "id": "Pq5RINNOoiZk"
      },
      "outputs": [],
      "source": [
        "def word_analyzer(word, tag):\n",
        "    ar = \"\"\n",
        "    tag2= tag\n",
        "    if tag == \"<malay>\":\n",
        "        tag2 = \"</malay>\"\n",
        "    if tag == \"(\":\n",
        "        tag2 = \")\"\n",
        "    if tag == \"[\":\n",
        "        tag2 = \"]\"\n",
        "    if tag == \"<\":\n",
        "        tag2 = \">\"\n",
        "    if tag == \"{\":\n",
        "        tag2 = \"}\"\n",
        "    n = len(tag)\n",
        "    k = len(tag2)\n",
        "    if word.startswith(tag) and word.endswith(tag2):\n",
        "            ar = word[n:-k]\n",
        "    elif word.startswith(tag):\n",
        "            ar = word[n:]\n",
        "    elif word.endswith(tag2):\n",
        "            ar = word[:-k]\n",
        "    return ar"
      ]
    },
    {
      "cell_type": "code",
      "execution_count": null,
      "metadata": {
        "id": "z6iE2ajWozuW"
      },
      "outputs": [],
      "source": [
        "def data_cleanser(string):\n",
        "    words = string.split()\n",
        "    ar = []\n",
        "    sent = \"\"\n",
        "    for word in words:\n",
        "        if \"_\" in word:\n",
        "            wrd = \"\"\n",
        "            for j in range(len(word)):\n",
        "                if word[j] != \"_\":\n",
        "                    wrd += word[j]\n",
        "            word = wrd\n",
        "        elif word.startswith(\"<malay>\") or word.endswith(\"</malay>\"):\n",
        "            word = word_analyzer(word, \"<malay>\")\n",
        "        elif word.startswith(\"(\") or word.endswith(\")\"):\n",
        "            word = word_analyzer(word, \"(\")\n",
        "        elif word.startswith(\"[\") or word.endswith(\"]\"):\n",
        "            word = word_analyzer(word, \"[\")\n",
        "        elif word.startswith(\"<\") or word.endswith(\">\"):\n",
        "            word = word_analyzer(word, \"<\")\n",
        "        elif word.startswith(\"{\") or word.endswith(\"}\"):\n",
        "            word = word_analyzer(word, \"{\")\n",
        "        elif word.startswith(\"!\") or word.endswith(\"!\"):\n",
        "            word = word_analyzer(word, \"!\")\n",
        "        elif word.startswith(\"#\") or word.endswith(\"#\"):\n",
        "            word = word_analyzer(word, \"#\")\n",
        "        elif word.endswith(\"~\"):\n",
        "            word = word[:-1]\n",
        "        ar.append(word)\n",
        "    return \" \".join(ar)     "
      ]
    },
    {
      "cell_type": "code",
      "execution_count": null,
      "metadata": {
        "id": "ICkpFktPpvB3"
      },
      "outputs": [],
      "source": [
        "cs = \"\"\n",
        "mal = \"\"\n",
        "eng = \"\"\n",
        "for i in range(len(text)):\n",
        "    string = text[i][:-1]\n",
        "    lang = detector(string)\n",
        "    if lang == \"CS\":\n",
        "        cs += data_cleanser(string) + \"\\n\"\n",
        "    if lang == \"MS\":\n",
        "        mal += data_cleanser(string) + \"\\n\"\n",
        "    if lang == \"EN\":\n",
        "        eng += data_cleanser(string) + \"\\n\""
      ]
    },
    {
      "cell_type": "code",
      "execution_count": null,
      "metadata": {
        "id": "gbdUaMCXrVI5"
      },
      "outputs": [],
      "source": [
        "filename = \"Only_English.txt\"\n",
        "f1 = open(filename,'w+')\n",
        "f1.write(eng)\n",
        "f1.close()"
      ]
    },
    {
      "cell_type": "code",
      "execution_count": null,
      "metadata": {
        "id": "2C2Q7dHgqICL"
      },
      "outputs": [],
      "source": [
        "filename = \"Only_CS.txt\"\n",
        "f1 = open(filename,'w+')\n",
        "f1.write(cs)\n",
        "f1.close()"
      ]
    },
    {
      "cell_type": "code",
      "execution_count": null,
      "metadata": {
        "id": "dSTqu0l9qJXT"
      },
      "outputs": [],
      "source": [
        "filename = \"Only_Malay.txt\"\n",
        "f1 = open(filename,'w+')\n",
        "f1.write(mal)\n",
        "f1.close()"
      ]
    },
    {
      "cell_type": "code",
      "execution_count": null,
      "metadata": {
        "id": "pCQGJrBFqhL5"
      },
      "outputs": [],
      "source": []
    }
  ],
  "metadata": {
    "accelerator": "GPU",
    "colab": {
      "provenance": []
    },
    "gpuClass": "standard",
    "kernelspec": {
      "display_name": "Python 3.8.5 ('base')",
      "language": "python",
      "name": "python3"
    },
    "language_info": {
      "name": "python",
      "version": "3.8.5"
    },
    "vscode": {
      "interpreter": {
        "hash": "75e1efb84c03986af0e8f42485fed0cce10a00d55878541b86dc1dc64e57af84"
      }
    }
  },
  "nbformat": 4,
  "nbformat_minor": 0
}
