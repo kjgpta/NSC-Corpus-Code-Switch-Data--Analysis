{
  "cells": [
    {
      "cell_type": "markdown",
      "metadata": {},
      "source": [
        "# Merges the text files from directory for analysis"
      ]
    },
    {
      "cell_type": "code",
      "execution_count": null,
      "metadata": {
        "id": "jf1ZER0pB-3D"
      },
      "outputs": [],
      "source": [
        "import os\n",
        "def merge_data(directory_pick):\n",
        "    text = \"\"\n",
        "    for fil in os.listdir(directory_pick):\n",
        "        filename = directory_pick + '/'+ str(fil)\n",
        "        with open(filename,'r') as f1:\n",
        "            text += f.read() + \"\\n\"\n",
        "        f1.close()\n",
        "    f2 = open(\"complete.txt\",'w+')\n",
        "    f2.write(text)\n",
        "    f2.close()  \n",
        "\n",
        "# \"Text\" => Path of the folder which consists the text files\n",
        "merge_data(\"Text\")\n",
        "print(\"All files successfully Merged\")"
      ]
    }
  ],
  "metadata": {
    "colab": {
      "provenance": []
    },
    "kernelspec": {
      "display_name": "Python 3.8.5 ('base')",
      "language": "python",
      "name": "python3"
    },
    "language_info": {
      "name": "python",
      "version": "3.8.5"
    },
    "vscode": {
      "interpreter": {
        "hash": "75e1efb84c03986af0e8f42485fed0cce10a00d55878541b86dc1dc64e57af84"
      }
    }
  },
  "nbformat": 4,
  "nbformat_minor": 0
}
