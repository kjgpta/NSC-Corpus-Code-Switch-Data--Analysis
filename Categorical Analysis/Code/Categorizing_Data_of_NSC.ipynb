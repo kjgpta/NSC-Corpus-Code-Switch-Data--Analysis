{
  "cells": [
    {
      "cell_type": "markdown",
      "metadata": {
        "id": "kqxqRYWI_dVJ"
      },
      "source": [
        "# Categorize the NSC text files into several groups for analysis "
      ]
    },
    {
      "cell_type": "code",
      "execution_count": null,
      "metadata": {
        "id": "1DRjihG3_tMB"
      },
      "outputs": [],
      "source": [
        "import os\n",
        "import pandas as pd"
      ]
    },
    {
      "cell_type": "code",
      "execution_count": null,
      "metadata": {
        "id": "Wog7raAi-5Jy"
      },
      "outputs": [],
      "source": [
        "def details(df3):\n",
        "    index = 0\n",
        "    age = df3.at[index, \"Age\"]\n",
        "    gender = df3.at[index, \"Gender\"]\n",
        "    relationship = df3.at[index, \"Partner Relationship\"]\n",
        "    ethnicity = df3.at[index, \"Ethnic Group\"]\n",
        "    education = df3.at[index, \"Education Levels\"]\n",
        "    employment = df3.at[index, \"Occupation\"]\n",
        "    dominant_lang = df3.at[index, \"Dominant Language\"]\n",
        "    first_lang = df3.at[index, 'Spoken Languages']\n",
        "    # Age = [0, 1, 2] 0--> 18-30, 1--> 31-45, 2--> 46<=\n",
        "    # Gender = [0, 1] 0--> Male, 1--> Female\n",
        "    # Relationship = [0, 1, 2] 0--> Family, 1--> Friends, 2--> Strangers\n",
        "    # ethnicity = [0, 1, 2] 0--> Malay, 1--> Indian, 2--> Chinese\n",
        "    # education = [0, 1, 2] 0--> School, 1--> Polytechnic, 2--> University\n",
        "    # employment = [0, 1, 2] 0--> Students, 1--> Unemployed, 2--> Employed \n",
        "    # dominant_lang = [0, 1, 2]  0--> Malay, 1--> English, 2--> Other\n",
        "    # first_lang = [0, 1, 2]  0--> Malay, 1--> English, 2--> Other\n",
        "\n",
        "    res = []\n",
        "    \n",
        "    # Age \n",
        "    if age <= 30:\n",
        "        res.append(0)\n",
        "    elif age <= 45:\n",
        "        res.append(1)\n",
        "    else:\n",
        "        res.append(2)\n",
        "    \n",
        "    # Gender\n",
        "    if gender == \"M\":\n",
        "        res.append(0)\n",
        "    else:\n",
        "        res.append(1)\n",
        "\n",
        "    # Relationship\n",
        "    if relationship == \"Family\" or relationship == \"Partners\":\n",
        "        res.append(0)\n",
        "    elif relationship == \"Friends\":\n",
        "        res.append(1)\n",
        "    else:\n",
        "        res.append(2)\n",
        "    \n",
        "    # Ethnicity\n",
        "    if ethnicity == \"MALAY\":\n",
        "        res.append(0)\n",
        "    elif ethnicity == \"INDIAN\":\n",
        "        res.append(1)\n",
        "    else:\n",
        "        res.append(2)\n",
        "    \n",
        "    # Education\n",
        "    if education == \"Secondary School\":\n",
        "        res.append(0)\n",
        "    elif education == \"Diploma\" or education == \"O-Levels\" or education == \"A-Levels\":\n",
        "        res.append(1)\n",
        "    else:\n",
        "        res.append(2)\n",
        "\n",
        "    # Employment\n",
        "    if employment == \"Student\":\n",
        "        res.append(0)\n",
        "    elif employment == \"Unemployed\":\n",
        "        res.append(1)\n",
        "    else:\n",
        "        res.append(2)\n",
        "\n",
        "    # Dominant  Language\n",
        "    if dominant_lang == \"Malay\":\n",
        "        res.append(0)\n",
        "    elif dominant_lang == \"English\":\n",
        "        res.append(1)\n",
        "    else:\n",
        "        res.append(2)\n",
        "    \n",
        "    # First  Language\n",
        "    if first_lang == \"Malay\":\n",
        "        res.append(0)\n",
        "    elif first_lang == \"English\":\n",
        "        res.append(1)\n",
        "    else:\n",
        "        res.append(2)\n",
        "    \n",
        "    return res"
      ]
    },
    {
      "cell_type": "code",
      "execution_count": null,
      "metadata": {
        "id": "y28P6Yhd-769"
      },
      "outputs": [],
      "source": [
        "age = [[], [], []]\n",
        "gender = [[], []]\n",
        "relationship = [[], [], []]\n",
        "ethnicity = [[], [], []]\n",
        "education = [[], [], []]\n",
        "employment = [[], [], []]\n",
        "dominant_lang = [[], [], []]\n",
        "first_lang = [[], [], []]\n",
        "\n",
        "df = pd.read_excel(\"NSC Part 4 Speaker Metadata.xlsx\")\n",
        "for filename in os.listdir(\"Text_Files\"):\n",
        "    sess_id = int(str(filename)[0:4])\n",
        "    speak_id = int(str(filename)[5:9])\n",
        "    df2 = df.loc[(df['Session ID'] == sess_id) & (df['Speaker ID'] == speak_id)]\n",
        "    df2 = df2.reset_index()\n",
        "    if len(df2.index) == 0:\n",
        "        continue\n",
        "    res = details(df2)\n",
        "    age[res[0]].append(filename)\n",
        "    gender[res[1]].append(filename)\n",
        "    relationship[res[2]].append(filename)\n",
        "    ethnicity[res[3]].append(filename)\n",
        "    education[res[4]].append(filename)\n",
        "    employment[res[5]].append(filename)\n",
        "    dominant_lang[res[6]].append(filename)\n",
        "    first_lang[res[7]].append(filename)"
      ]
    },
    {
      "cell_type": "code",
      "execution_count": null,
      "metadata": {
        "id": "RlFy-BaH-96E"
      },
      "outputs": [],
      "source": [
        "def merge_files(source_folder, name):\n",
        "    txt = \"\"\n",
        "    for file_name in os.listdir(source_folder+\"/\"+name):\n",
        "        with open(source_folder+\"/\"+name +\"/\"+file_name) as f1:\n",
        "            txt += f1.read()+\"\\n\"\n",
        "        f1.close()\n",
        "    f2 = open(source_folder+\"/complete_\"+name+\".txt\",'w+')\n",
        "    f2.write(txt)\n",
        "    f2.close()"
      ]
    },
    {
      "cell_type": "code",
      "execution_count": null,
      "metadata": {
        "id": "986DjEW9_Hel"
      },
      "outputs": [],
      "source": [
        "import shutil\n",
        "# Age\n",
        "source_folder = \"Text_Files\"\n",
        "destination_folder = \"Age/\"\n",
        "for file_name in os.listdir(source_folder):\n",
        "    source = source_folder + \"/\" + file_name\n",
        "    if file_name in age[0]:\n",
        "        new_dest = destination_folder + \"18_30/\"\n",
        "    elif file_name in age[1]:\n",
        "        new_dest = destination_folder + \"31_45/\"\n",
        "    elif file_name in age[2]:\n",
        "        new_dest = destination_folder + \"46_more/\"\n",
        "    else:\n",
        "        continue\n",
        "    destination = new_dest + file_name\n",
        "    if os.path.isfile(source):\n",
        "        shutil.copy(source, destination)\n",
        "\n",
        "merge_files(destination_folder, \"18_30\")\n",
        "merge_files(destination_folder, \"31_45\")\n",
        "merge_files(destination_folder, \"46_more\")"
      ]
    },
    {
      "cell_type": "code",
      "execution_count": null,
      "metadata": {
        "id": "bzGFQyhC_KbJ"
      },
      "outputs": [],
      "source": [
        "# Gender\n",
        "source_folder = \"Text_Files\"\n",
        "destination_folder = \"Gender/\"\n",
        "for file_name in os.listdir(source_folder):\n",
        "    source = source_folder + \"/\" + file_name\n",
        "    if file_name in gender[0]:\n",
        "        new_dest = destination_folder + \"Male/\"\n",
        "    elif file_name in gender[1]:\n",
        "        new_dest = destination_folder + \"Female/\"\n",
        "    else:\n",
        "        continue\n",
        "    destination = new_dest + file_name\n",
        "    if os.path.isfile(source):\n",
        "        shutil.copy(source, destination)\n",
        "\n",
        "merge_files(destination_folder, \"Male\")\n",
        "merge_files(destination_folder, \"Female\")"
      ]
    },
    {
      "cell_type": "code",
      "execution_count": null,
      "metadata": {
        "id": "h2kkMnbx_K53"
      },
      "outputs": [],
      "source": [
        "# Relationship\n",
        "source_folder = \"Text_Files\"\n",
        "destination_folder = \"Relationship/\"\n",
        "for file_name in os.listdir(source_folder):\n",
        "    source = source_folder + \"/\" + file_name\n",
        "    if file_name in relationship[0]:\n",
        "        new_dest = destination_folder + \"Family/\"\n",
        "    elif file_name in relationship[1]:\n",
        "        new_dest = destination_folder + \"Friends/\"\n",
        "    elif file_name in relationship[2]:\n",
        "        new_dest = destination_folder + \"Strangers/\"\n",
        "    else:\n",
        "        continue\n",
        "    destination = new_dest + file_name\n",
        "    if os.path.isfile(source):\n",
        "        shutil.copy(source, destination)\n",
        "\n",
        "merge_files(destination_folder, \"Family\")\n",
        "merge_files(destination_folder, \"Friends\")\n",
        "merge_files(destination_folder, \"Strangers\")"
      ]
    },
    {
      "cell_type": "code",
      "execution_count": null,
      "metadata": {
        "id": "91aYX3iP_Mnx"
      },
      "outputs": [],
      "source": [
        "# Ethnicity\n",
        "source_folder = \"Text_Files\"\n",
        "destination_folder = \"Ethnicity/\"\n",
        "for file_name in os.listdir(source_folder):\n",
        "    source = source_folder + \"/\" + file_name\n",
        "    if file_name in ethnicity[0]:\n",
        "        new_dest = destination_folder + \"Malay/\"\n",
        "    elif file_name in ethnicity[1]:\n",
        "        new_dest = destination_folder + \"Indian/\"\n",
        "    elif file_name in ethnicity[2]:\n",
        "        new_dest = destination_folder + \"Chinese/\"\n",
        "    else:\n",
        "        continue\n",
        "    destination = new_dest + file_name\n",
        "    if os.path.isfile(source):\n",
        "        shutil.copy(source, destination)\n",
        "\n",
        "merge_files(destination_folder, \"Malay\")\n",
        "merge_files(destination_folder, \"Indian\")\n",
        "merge_files(destination_folder, \"Chinese\")"
      ]
    },
    {
      "cell_type": "code",
      "execution_count": null,
      "metadata": {
        "id": "5U_bzgf-_OXw"
      },
      "outputs": [],
      "source": [
        "# Education\n",
        "source_folder = \"Text_Files\"\n",
        "destination_folder = \"Education/\"\n",
        "for file_name in os.listdir(source_folder):\n",
        "    source = source_folder + \"/\" + file_name\n",
        "    if file_name in education[0]:\n",
        "        new_dest = destination_folder + \"School/\"\n",
        "    elif file_name in education[1]:\n",
        "        new_dest = destination_folder + \"Polytechnic/\"\n",
        "    elif file_name in education[2]:\n",
        "        new_dest = destination_folder + \"University/\"\n",
        "    else:\n",
        "        continue\n",
        "    destination = new_dest + file_name\n",
        "    if os.path.isfile(source):\n",
        "        shutil.copy(source, destination)\n",
        "\n",
        "merge_files(destination_folder, \"School\")\n",
        "merge_files(destination_folder, \"Polytechnic\")\n",
        "merge_files(destination_folder, \"University\")"
      ]
    },
    {
      "cell_type": "code",
      "execution_count": null,
      "metadata": {
        "id": "2pe3FJEY_QHf"
      },
      "outputs": [],
      "source": [
        "# Employment\n",
        "source_folder = \"Text_Files\"\n",
        "destination_folder = \"Employment/\"\n",
        "for file_name in os.listdir(source_folder):\n",
        "    source = source_folder + \"/\" + file_name\n",
        "    if file_name in employment[0]:\n",
        "        new_dest = destination_folder + \"Students/\"\n",
        "    elif file_name in employment[1]:\n",
        "        new_dest = destination_folder + \"Unemployed/\"\n",
        "    elif file_name in employment[2]:\n",
        "        new_dest = destination_folder + \"Employed/\"\n",
        "    else:\n",
        "        continue\n",
        "    destination = new_dest + file_name\n",
        "    if os.path.isfile(source):\n",
        "        shutil.copy(source, destination)\n",
        "\n",
        "merge_files(destination_folder, \"Students\")\n",
        "merge_files(destination_folder, \"Unemployed\")\n",
        "merge_files(destination_folder, \"Employed\")"
      ]
    },
    {
      "cell_type": "code",
      "execution_count": null,
      "metadata": {
        "id": "4blTdGKm_Rxw"
      },
      "outputs": [],
      "source": [
        "# Dominant_Language\n",
        "source_folder = \"Text_Files\"\n",
        "destination_folder = \"Dominant_Language/\"\n",
        "for file_name in os.listdir(source_folder):\n",
        "    source = source_folder + \"/\" + file_name\n",
        "    if file_name in dominant_lang[0]:\n",
        "        new_dest = destination_folder + \"Malay/\"\n",
        "    elif file_name in dominant_lang[1]:\n",
        "        new_dest = destination_folder + \"English/\"\n",
        "    elif file_name in dominant_lang[2]:\n",
        "        new_dest = destination_folder + \"Other/\"\n",
        "    else:\n",
        "        continue\n",
        "    destination = new_dest + file_name\n",
        "    if os.path.isfile(source):\n",
        "        shutil.copy(source, destination)\n",
        "\n",
        "merge_files(destination_folder, \"Malay\")\n",
        "merge_files(destination_folder, \"English\")\n",
        "merge_files(destination_folder, \"Other\")"
      ]
    },
    {
      "cell_type": "code",
      "execution_count": null,
      "metadata": {
        "id": "tgnDRUfQ_Tas"
      },
      "outputs": [],
      "source": [
        "# First_Language\n",
        "source_folder = \"Text_Files\"\n",
        "destination_folder = \"First_Language/\"\n",
        "for file_name in os.listdir(source_folder):\n",
        "    source = source_folder + \"/\" + file_name\n",
        "    if file_name in first_lang[0]:\n",
        "        new_dest = destination_folder + \"Malay/\"\n",
        "    elif file_name in first_lang[1]:\n",
        "        new_dest = destination_folder + \"English/\"\n",
        "    elif file_name in first_lang[2]:\n",
        "        new_dest = destination_folder + \"Other/\"\n",
        "    else:\n",
        "        continue\n",
        "    destination = new_dest + file_name\n",
        "    if os.path.isfile(source):\n",
        "        shutil.copy(source, destination)\n",
        "\n",
        "merge_files(destination_folder, \"Malay\")\n",
        "merge_files(destination_folder, \"English\")\n",
        "merge_files(destination_folder, \"Other\")"
      ]
    },
    {
      "cell_type": "code",
      "execution_count": null,
      "metadata": {
        "id": "bsFCY3bX_9PM"
      },
      "outputs": [],
      "source": [
        "print(\"All the files successfully categorized\")"
      ]
    }
  ],
  "metadata": {
    "colab": {
      "provenance": []
    },
    "kernelspec": {
      "display_name": "Python 3.8.5 ('base')",
      "language": "python",
      "name": "python3"
    },
    "language_info": {
      "name": "python",
      "version": "3.8.5"
    },
    "vscode": {
      "interpreter": {
        "hash": "75e1efb84c03986af0e8f42485fed0cce10a00d55878541b86dc1dc64e57af84"
      }
    }
  },
  "nbformat": 4,
  "nbformat_minor": 0
}
